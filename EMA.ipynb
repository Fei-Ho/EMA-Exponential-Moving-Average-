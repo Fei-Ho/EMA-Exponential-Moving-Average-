{
 "cells": [
  {
   "cell_type": "code",
   "execution_count": 1,
   "metadata": {},
   "outputs": [],
   "source": [
    "import tensorflow as tf\n",
    "import numpy as np"
   ]
  },
  {
   "cell_type": "markdown",
   "metadata": {},
   "source": [
    "## EMA(Exponential Moving Average)"
   ]
  },
  {
   "cell_type": "code",
   "execution_count": 2,
   "metadata": {},
   "outputs": [],
   "source": [
    "class EMA:\n",
    "    def __init__(self, model, decay):\n",
    "        self.model = model\n",
    "        self.decay = decay\n",
    "        self.shadow = {}\n",
    "        self.backup = {}\n",
    "        self.register()\n",
    "\n",
    "    # 注册所有需要跟踪的变量\n",
    "    def register(self):\n",
    "        for param in self.model.variables:\n",
    "            if param.trainable:\n",
    "                self.shadow[param.name] = param.value()\n",
    "\n",
    "    # 每次变量的值改变后更新影子变量的值\n",
    "    def update(self):\n",
    "        for param in self.model.variables:\n",
    "            if param.trainable:\n",
    "                assert param.name in self.shadow\n",
    "                new_average = (1.0 - self.decay) * param.value() + self.decay * self.shadow[param.name]\n",
    "                self.shadow[param.name] = new_average\n",
    "\n",
    "    # 将模型参数变成影子值，backup是真实值的备份\n",
    "    def apply_shadow(self):\n",
    "        for param in self.model.variables:\n",
    "            if param.trainable:\n",
    "                assert param.name in self.shadow\n",
    "                self.backup[param.name] = param.value()\n",
    "                param.assign(self.shadow[param.name])\n",
    "                \n",
    "\n",
    "    # 将模型的参数变回真实值\n",
    "    def restore(self):\n",
    "        for param in self.model.variables:\n",
    "            if param.trainable:\n",
    "                assert param.name in self.backup\n",
    "                param.assign(self.backup[param.name])\n",
    "        self.backup = {}\n"
   ]
  },
  {
   "cell_type": "markdown",
   "metadata": {},
   "source": [
    "## 数据集"
   ]
  },
  {
   "cell_type": "code",
   "execution_count": 54,
   "metadata": {},
   "outputs": [
    {
     "name": "stdout",
     "output_type": "stream",
     "text": [
      "[[0.19151945 0.62210877 0.43772774 0.78535858 0.77997581 0.27259261\n",
      "  0.27646426]\n",
      " [0.80187218 0.95813935 0.87593263 0.35781727 0.50099513 0.68346294\n",
      "  0.71270203]\n",
      " [0.37025075 0.56119619 0.50308317 0.01376845 0.77282662 0.88264119\n",
      "  0.36488598]\n",
      " [0.61539618 0.07538124 0.36882401 0.9331401  0.65137814 0.39720258\n",
      "  0.78873014]\n",
      " [0.31683612 0.56809865 0.86912739 0.43617342 0.80214764 0.14376682\n",
      "  0.70426097]\n",
      " [0.70458131 0.21879211 0.92486763 0.44214076 0.90931596 0.05980922\n",
      "  0.18428708]\n",
      " [0.04735528 0.67488094 0.59462478 0.53331016 0.04332406 0.56143308\n",
      "  0.32966845]\n",
      " [0.50296683 0.11189432 0.60719371 0.56594464 0.00676406 0.61744171\n",
      "  0.91212289]\n",
      " [0.79052413 0.99208147 0.95880176 0.79196414 0.28525096 0.62491671\n",
      "  0.4780938 ]\n",
      " [0.19567518 0.38231745 0.05387369 0.45164841 0.98200474 0.1239427\n",
      "  0.1193809 ]]\n"
     ]
    }
   ],
   "source": [
    "np.random.seed(1234) #设置随机种子为1234\n",
    "dataset_train = np.random.rand(10,7)\n",
    "print(dataset_train)\n",
    "labels = [1,1,0,0,1,1,1,0,0,1]"
   ]
  },
  {
   "cell_type": "markdown",
   "metadata": {},
   "source": [
    "## 模型定义与初始化"
   ]
  },
  {
   "cell_type": "code",
   "execution_count": 4,
   "metadata": {},
   "outputs": [],
   "source": [
    "class MyModel(tf.keras.Model):\n",
    "    def __init__(self):\n",
    "        super(MyModel,self).__init__()\n",
    "        self.dense_1 = tf.keras.layers.Dense(7,activation=tf.nn.relu)\n",
    "        self.dense_2 = tf.keras.layers.Dense(2,activation=tf.nn.softmax)\n",
    "    \n",
    "    def build(self,inputs):\n",
    "        pass\n",
    "    \n",
    "    def call(self,inputs):\n",
    "        x = self.dense_1(inputs)\n",
    "        output = self.dense_2(x)\n",
    "        return output"
   ]
  },
  {
   "cell_type": "code",
   "execution_count": 5,
   "metadata": {},
   "outputs": [
    {
     "name": "stdout",
     "output_type": "stream",
     "text": [
      "WARNING:tensorflow:Layer my_model is casting an input tensor from dtype float64 to the layer's dtype of float32, which is new behavior in TensorFlow 2.  The layer has dtype float32 because its dtype defaults to floatx.\n",
      "\n",
      "If you intended to run this layer in float32, you can safely ignore this warning. If in doubt, this warning is likely only an issue if you are porting a TensorFlow 1.X model to TensorFlow 2.\n",
      "\n",
      "To change all layers to have dtype float64 by default, call `tf.keras.backend.set_floatx('float64')`. To change just this layer, pass dtype='float64' to the layer constructor. If you are the author of this layer, you can disable autocasting by passing autocast=False to the base Layer constructor.\n",
      "\n"
     ]
    },
    {
     "data": {
      "text/plain": [
       "<tf.Tensor: shape=(10, 2), dtype=float32, numpy=\n",
       "array([[0.35131532, 0.6486846 ],\n",
       "       [0.22811796, 0.77188206],\n",
       "       [0.22424309, 0.77575696],\n",
       "       [0.38117865, 0.6188214 ],\n",
       "       [0.33491343, 0.66508657],\n",
       "       [0.39518434, 0.60481566],\n",
       "       [0.4021208 , 0.59787923],\n",
       "       [0.4709828 , 0.5290172 ],\n",
       "       [0.3412144 , 0.6587856 ],\n",
       "       [0.30186206, 0.69813794]], dtype=float32)>"
      ]
     },
     "execution_count": 5,
     "metadata": {},
     "output_type": "execute_result"
    }
   ],
   "source": [
    "model = MyModel()\n",
    "model(dataset_train)"
   ]
  },
  {
   "cell_type": "markdown",
   "metadata": {},
   "source": [
    "## 训练"
   ]
  },
  {
   "cell_type": "code",
   "execution_count": 6,
   "metadata": {},
   "outputs": [],
   "source": [
    "# global_step变量记录迭代的次数，可以用于动态控制衰减率\n",
    "global_step = tf.Variable(0, trainable=False)\n",
    "\n",
    "optimizer = tf.keras.optimizers.Adam(learning_rate=1e-3, epsilon=1e-8)\n",
    "loss_object = tf.keras.losses.SparseCategoricalCrossentropy()"
   ]
  },
  {
   "cell_type": "code",
   "execution_count": 7,
   "metadata": {},
   "outputs": [],
   "source": [
    "# 定义滑动平均的类。初始化时给定了衰减率(0.999)和控制衰减率的变量step，\n",
    "# ema = tf.train.ExponentialMovingAverage(0.9, global_step)\n",
    "ema = EMA(model, 0.999)\n",
    "ema.register()"
   ]
  },
  {
   "cell_type": "code",
   "execution_count": 8,
   "metadata": {
    "scrolled": true
   },
   "outputs": [],
   "source": [
    "for num_epoch in range(100):\n",
    "    global_step = tf.add(global_step,1)\n",
    "    with tf.GradientTape() as tape:\n",
    "        predictions = model(dataset_train)\n",
    "        loss = loss_object(labels,predictions)\n",
    "        gradients = tape.gradient(loss, model.trainable_variables)\n",
    "        optimizer.apply_gradients(zip(gradients, model.trainable_variables))\n",
    "        # 更新参数的 EMA 值\n",
    "        ema.update()"
   ]
  },
  {
   "cell_type": "markdown",
   "metadata": {},
   "source": [
    "## 验证EMA"
   ]
  },
  {
   "cell_type": "code",
   "execution_count": 49,
   "metadata": {},
   "outputs": [
    {
     "data": {
      "text/plain": [
       "<tf.Tensor: shape=(7, 7), dtype=bool, numpy=\n",
       "array([[False, False, False, False, False,  True, False],\n",
       "       [False, False, False, False, False,  True, False],\n",
       "       [False, False, False, False, False,  True, False],\n",
       "       [False, False, False, False, False,  True, False],\n",
       "       [False, False, False, False, False, False, False],\n",
       "       [False, False, False, False, False, False, False],\n",
       "       [False, False, False, False, False,  True, False]])>"
      ]
     },
     "execution_count": 49,
     "metadata": {},
     "output_type": "execute_result"
    }
   ],
   "source": [
    "# 对比模型参数和相应的影子参数值\n",
    "tf.equal(model.variables[0], ema.shadow[model.variables[0].name],all)"
   ]
  },
  {
   "cell_type": "code",
   "execution_count": 53,
   "metadata": {},
   "outputs": [
    {
     "data": {
      "text/plain": [
       "<tf.Tensor: shape=(7, 7), dtype=bool, numpy=\n",
       "array([[ True,  True,  True,  True,  True,  True,  True],\n",
       "       [ True,  True,  True,  True,  True,  True,  True],\n",
       "       [ True,  True,  True,  True,  True,  True,  True],\n",
       "       [ True,  True,  True,  True,  True,  True,  True],\n",
       "       [ True,  True,  True,  True,  True,  True,  True],\n",
       "       [ True,  True,  True,  True,  True,  True,  True],\n",
       "       [ True,  True,  True,  True,  True,  True,  True]])>"
      ]
     },
     "execution_count": 53,
     "metadata": {},
     "output_type": "execute_result"
    }
   ],
   "source": [
    "# 将模型参数值变成影子值\n",
    "ema.apply_shadow()\n",
    "tf.equal(model.variables[0], ema.shadow[model.variables[0].name],all)"
   ]
  },
  {
   "cell_type": "code",
   "execution_count": 52,
   "metadata": {},
   "outputs": [
    {
     "data": {
      "text/plain": [
       "<tf.Tensor: shape=(7, 7), dtype=bool, numpy=\n",
       "array([[False, False, False, False, False,  True, False],\n",
       "       [False, False, False, False, False,  True, False],\n",
       "       [False, False, False, False, False,  True, False],\n",
       "       [False, False, False, False, False,  True, False],\n",
       "       [False, False, False, False, False, False, False],\n",
       "       [False, False, False, False, False, False, False],\n",
       "       [False, False, False, False, False,  True, False]])>"
      ]
     },
     "execution_count": 52,
     "metadata": {},
     "output_type": "execute_result"
    }
   ],
   "source": [
    "# 将模型参数值变回真实值\n",
    "ema.restore()\n",
    "tf.equal(model.variables[0], ema.shadow[model.variables[0].name],all)"
   ]
  }
 ],
 "metadata": {
  "kernelspec": {
   "display_name": "Python 3",
   "language": "python",
   "name": "python3"
  },
  "language_info": {
   "codemirror_mode": {
    "name": "ipython",
    "version": 3
   },
   "file_extension": ".py",
   "mimetype": "text/x-python",
   "name": "python",
   "nbconvert_exporter": "python",
   "pygments_lexer": "ipython3",
   "version": "3.8.6"
  }
 },
 "nbformat": 4,
 "nbformat_minor": 4
}
